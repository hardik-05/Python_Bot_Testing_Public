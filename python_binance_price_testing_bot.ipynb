{
  "nbformat": 4,
  "nbformat_minor": 0,
  "metadata": {
    "colab": {
      "name": "python binance price testing bot.ipynb",
      "provenance": [],
      "authorship_tag": "ABX9TyMlvkbXoFVvpQwNH2xQYRr9",
      "include_colab_link": true
    },
    "kernelspec": {
      "name": "python3",
      "display_name": "Python 3"
    },
    "language_info": {
      "name": "python"
    }
  },
  "cells": [
    {
      "cell_type": "markdown",
      "metadata": {
        "id": "view-in-github",
        "colab_type": "text"
      },
      "source": [
        "<a href=\"https://colab.research.google.com/github/hardik-05/Python_Bot_Testing_Public/blob/main/python_binance_price_testing_bot.ipynb\" target=\"_parent\"><img src=\"https://colab.research.google.com/assets/colab-badge.svg\" alt=\"Open In Colab\"/></a>"
      ]
    },
    {
      "cell_type": "code",
      "metadata": {
        "colab": {
          "base_uri": "https://localhost:8080/"
        },
        "id": "DVPnvDUwX3sc",
        "outputId": "6f059087-e270-487e-94d9-b3e1c4c9da63"
      },
      "source": [
        "pip install python-binance"
      ],
      "execution_count": null,
      "outputs": [
        {
          "output_type": "stream",
          "name": "stdout",
          "text": [
            "Collecting yarl<2.0,>=1.0\n",
            "  Downloading yarl-1.6.3-cp37-cp37m-manylinux2014_x86_64.whl (294 kB)\n",
            "\u001b[?25l\r\u001b[K     |█▏                              | 10 kB 30.0 MB/s eta 0:00:01\r\u001b[K     |██▎                             | 20 kB 37.2 MB/s eta 0:00:01\r\u001b[K     |███▍                            | 30 kB 45.3 MB/s eta 0:00:01\r\u001b[K     |████▌                           | 40 kB 48.6 MB/s eta 0:00:01\r\u001b[K     |█████▋                          | 51 kB 51.0 MB/s eta 0:00:01\r\u001b[K     |██████▊                         | 61 kB 55.2 MB/s eta 0:00:01\r\u001b[K     |███████▉                        | 71 kB 55.8 MB/s eta 0:00:01\r\u001b[K     |█████████                       | 81 kB 57.7 MB/s eta 0:00:01\r\u001b[K     |██████████                      | 92 kB 59.4 MB/s eta 0:00:01\r\u001b[K     |███████████▏                    | 102 kB 60.5 MB/s eta 0:00:01\r\u001b[K     |████████████▎                   | 112 kB 60.5 MB/s eta 0:00:01\r\u001b[K     |█████████████▍                  | 122 kB 60.5 MB/s eta 0:00:01\r\u001b[K     |██████████████▌                 | 133 kB 60.5 MB/s eta 0:00:01\r\u001b[K     |███████████████▋                | 143 kB 60.5 MB/s eta 0:00:01\r\u001b[K     |████████████████▊               | 153 kB 60.5 MB/s eta 0:00:01\r\u001b[K     |█████████████████▉              | 163 kB 60.5 MB/s eta 0:00:01\r\u001b[K     |███████████████████             | 174 kB 60.5 MB/s eta 0:00:01\r\u001b[K     |████████████████████            | 184 kB 60.5 MB/s eta 0:00:01\r\u001b[K     |█████████████████████▏          | 194 kB 60.5 MB/s eta 0:00:01\r\u001b[K     |██████████████████████▎         | 204 kB 60.5 MB/s eta 0:00:01\r\u001b[K     |███████████████████████▍        | 215 kB 60.5 MB/s eta 0:00:01\r\u001b[K     |████████████████████████▌       | 225 kB 60.5 MB/s eta 0:00:01\r\u001b[K     |█████████████████████████▋      | 235 kB 60.5 MB/s eta 0:00:01\r\u001b[K     |██████████████████████████▊     | 245 kB 60.5 MB/s eta 0:00:01\r\u001b[K     |███████████████████████████▉    | 256 kB 60.5 MB/s eta 0:00:01\r\u001b[K     |█████████████████████████████   | 266 kB 60.5 MB/s eta 0:00:01\r\u001b[K     |██████████████████████████████  | 276 kB 60.5 MB/s eta 0:00:01\r\u001b[K     |███████████████████████████████▏| 286 kB 60.5 MB/s eta 0:00:01\r\u001b[K     |████████████████████████████████| 294 kB 60.5 MB/s \n",
            "\u001b[?25hRequirement already satisfied: idna>=2.0 in /usr/local/lib/python3.7/dist-packages (from yarl<2.0,>=1.0->aiohttp->python-binance) (2.10)\n",
            "Requirement already satisfied: regex!=2019.02.19 in /usr/local/lib/python3.7/dist-packages (from dateparser->python-binance) (2019.12.20)\n",
            "Requirement already satisfied: pytz in /usr/local/lib/python3.7/dist-packages (from dateparser->python-binance) (2018.9)\n",
            "Requirement already satisfied: python-dateutil in /usr/local/lib/python3.7/dist-packages (from dateparser->python-binance) (2.8.2)\n",
            "Requirement already satisfied: tzlocal in /usr/local/lib/python3.7/dist-packages (from dateparser->python-binance) (1.5.1)\n",
            "Requirement already satisfied: urllib3!=1.25.0,!=1.25.1,<1.26,>=1.21.1 in /usr/local/lib/python3.7/dist-packages (from requests->python-binance) (1.24.3)\n",
            "Requirement already satisfied: certifi>=2017.4.17 in /usr/local/lib/python3.7/dist-packages (from requests->python-binance) (2021.5.30)\n",
            "Installing collected packages: multidict, yarl, async-timeout, websockets, ujson, dateparser, aiohttp, python-binance\n",
            "Successfully installed aiohttp-3.7.4.post0 async-timeout-3.0.1 dateparser-1.0.0 multidict-5.1.0 python-binance-1.0.14 ujson-4.2.0 websockets-10.0 yarl-1.6.3\n"
          ]
        }
      ]
    },
    {
      "cell_type": "code",
      "metadata": {
        "id": "JNJZCLH1cTIn"
      },
      "source": [
        "import numpy as np"
      ],
      "execution_count": null,
      "outputs": []
    },
    {
      "cell_type": "code",
      "metadata": {
        "colab": {
          "base_uri": "https://localhost:8080/"
        },
        "id": "kbYQtUUhcaLt",
        "outputId": "04acbb4c-3361-424a-d0e5-e67209612929"
      },
      "source": [
        "pip install websocket_client"
      ],
      "execution_count": null,
      "outputs": [
        {
          "output_type": "stream",
          "name": "stdout",
          "text": [
            "Collecting websocket_client\n",
            "  Downloading websocket_client-1.2.1-py2.py3-none-any.whl (52 kB)\n",
            "\u001b[?25l\r\u001b[K     |██████▏                         | 10 kB 28.4 MB/s eta 0:00:01\r\u001b[K     |████████████▍                   | 20 kB 11.6 MB/s eta 0:00:01\r\u001b[K     |██████████████████▋             | 30 kB 9.3 MB/s eta 0:00:01\r\u001b[K     |████████████████████████▉       | 40 kB 8.6 MB/s eta 0:00:01\r\u001b[K     |███████████████████████████████ | 51 kB 5.3 MB/s eta 0:00:01\r\u001b[K     |████████████████████████████████| 52 kB 952 kB/s \n",
            "\u001b[?25hInstalling collected packages: websocket-client\n",
            "Successfully installed websocket-client-1.2.1\n"
          ]
        }
      ]
    },
    {
      "cell_type": "code",
      "metadata": {
        "id": "cbZKx5ZScnWN"
      },
      "source": [
        "import websocket, json, pprint"
      ],
      "execution_count": null,
      "outputs": []
    },
    {
      "cell_type": "code",
      "metadata": {
        "id": "hnk54aUgi5mg"
      },
      "source": [
        "SOCKET = \"wss://stream.binance.com:9443/ws/ethusdt@kline_1m\""
      ],
      "execution_count": null,
      "outputs": []
    },
    {
      "cell_type": "code",
      "metadata": {
        "colab": {
          "base_uri": "https://localhost:8080/"
        },
        "id": "PuMsGCfvkmnj",
        "outputId": "c53e3b63-7c11-495b-f0ca-f3ab46b21008"
      },
      "source": [
        "closes = []\n",
        "\n",
        "\n",
        "def on_open(ws):\n",
        "  print(\"Connection Opened\")\n",
        "def on_close(ws):\n",
        "  print(\"Connection Closed\")\n",
        "\n",
        "def on_message(ws,message):\n",
        "  global closes\n",
        "  print(\"Recieved Message\")\n",
        "  \n",
        "\n",
        "\n",
        "  json_message = json.loads(message)\n",
        "  #pprint.pprint(json_message)\n",
        "\n",
        "\n",
        "  candle = json_message['k']\n",
        "  is_candle_closed = candle['x']\n",
        "  close = candle['c']\n",
        "\n",
        "  if is_candle_closed:\n",
        "    print(\"Candle closed at {}\".format(close))\n",
        "    closes.append(float(closes))\n",
        "    print(\"closes\")\n",
        "    print(closes)\n",
        "ws = websocket.WebSocketApp(SOCKET, on_open=on_open, on_close=on_close, on_message=on_message)\n",
        "ws.run_forever()"
      ],
      "execution_count": null,
      "outputs": [
        {
          "output_type": "stream",
          "name": "stdout",
          "text": [
            "Recieved Message\n",
            "Recieved Message\n",
            "Recieved Message\n"
          ]
        },
        {
          "output_type": "execute_result",
          "data": {
            "text/plain": [
              "False"
            ]
          },
          "metadata": {},
          "execution_count": 10
        }
      ]
    },
    {
      "cell_type": "code",
      "metadata": {
        "id": "jxfFPpBWmecU"
      },
      "source": [
        ""
      ],
      "execution_count": null,
      "outputs": []
    }
  ]
}